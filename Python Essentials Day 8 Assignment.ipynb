{
 "cells": [
  {
   "cell_type": "markdown",
   "metadata": {},
   "source": [
    "# Question 1\n",
    "Write a decorator function for your taking input for you any kind of function you want to build,\n",
    "For example - You make a fibonacci series function,in which your input range is been defined by\n",
    "the decorator program input."
   ]
  },
  {
   "cell_type": "code",
   "execution_count": 66,
   "metadata": {},
   "outputs": [
    {
     "name": "stdout",
     "output_type": "stream",
     "text": [
      "Enter the Febonacci series end limit: 200\n",
      "[1, 1, 2, 3, 5, 8, 13, 21, 34, 55, 89, 144]\n"
     ]
    }
   ],
   "source": [
    "def inner(func):\n",
    "    g = int(input('Enter the Febonacci series end limit: '))\n",
    "    return func(g)\n",
    "\n",
    "@inner\n",
    "def fibo1(arg):\n",
    "    a = 0\n",
    "    b = 1\n",
    "    A1 = []\n",
    "    while b < arg:\n",
    "        a,b = b, a+b\n",
    "        A1.append(a)\n",
    "    return A1\n",
    "\n",
    "print(fibo1)"
   ]
  },
  {
   "cell_type": "markdown",
   "metadata": {},
   "source": [
    "# Question 2\n",
    "For this challenge you need to develop a Python program to open a file in read only mode and try\n",
    "writing something to it and handle the subsequent errors using Exception Handling"
   ]
  },
  {
   "cell_type": "code",
   "execution_count": 16,
   "metadata": {},
   "outputs": [
    {
     "name": "stdout",
     "output_type": "stream",
     "text": [
      "Today is 10th September. \n",
      " Today is took leave from work. \n",
      " Reason was I am not feeling well.\n"
     ]
    }
   ],
   "source": [
    "'''Cell showing the existing file and the content inside'''\n",
    "f = open('Test2.txt','r')\n",
    "print(f.read())"
   ]
  },
  {
   "cell_type": "code",
   "execution_count": 18,
   "metadata": {},
   "outputs": [
    {
     "name": "stdout",
     "output_type": "stream",
     "text": [
      "This file is  not writable\n",
      "Execution of Program Completed\n"
     ]
    }
   ],
   "source": [
    "'''Passing Exception to handle the error when I try to write a file after opening it in READ mode'''\n",
    "\n",
    "f = open('Test2.txt','r')\n",
    "try:\n",
    "    f.write('Adding extra lines')\n",
    "except Exception as e:\n",
    "    print('This file is ',e)\n",
    "finally:\n",
    "    print('Execution of Program Completed')"
   ]
  }
 ],
 "metadata": {
  "kernelspec": {
   "display_name": "Python 3",
   "language": "python",
   "name": "python3"
  },
  "language_info": {
   "codemirror_mode": {
    "name": "ipython",
    "version": 3
   },
   "file_extension": ".py",
   "mimetype": "text/x-python",
   "name": "python",
   "nbconvert_exporter": "python",
   "pygments_lexer": "ipython3",
   "version": "3.8.3"
  }
 },
 "nbformat": 4,
 "nbformat_minor": 4
}
