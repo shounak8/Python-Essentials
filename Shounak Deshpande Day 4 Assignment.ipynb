{
 "cells": [
  {
   "cell_type": "markdown",
   "metadata": {},
   "source": [
    "# Find first Armstrong Number in Range 1042000 to 702648265"
   ]
  },
  {
   "cell_type": "code",
   "execution_count": 1,
   "metadata": {},
   "outputs": [],
   "source": [
    "def ARM(i1):\n",
    "    import math\n",
    "    H = []\n",
    "    d1 = 0\n",
    "    c1 = 0\n",
    "    b1 = list(str(i1))\n",
    "\n",
    "    while d1 < len(b1):\n",
    "        for j in b1:\n",
    "            c1 = c1 + (pow(int(j),len(b1)))\n",
    "            d1 += 1    \n",
    "    if c1 == i1:\n",
    "        return i1\n",
    "    else:\n",
    "        pass"
   ]
  },
  {
   "cell_type": "code",
   "execution_count": 2,
   "metadata": {},
   "outputs": [
    {
     "data": {
      "text/plain": [
       "1741725"
      ]
     },
     "execution_count": 2,
     "metadata": {},
     "output_type": "execute_result"
    }
   ],
   "source": [
    "L2 = []\n",
    "L3 = []\n",
    "for i in range(1042000,702648265):\n",
    "    L2.append(ARM(i))\n",
    "for j in L2:\n",
    "    if j != None:\n",
    "        L3.append(j)\n",
    "L3[0]"
   ]
  }
 ],
 "metadata": {
  "kernelspec": {
   "display_name": "Python 3",
   "language": "python",
   "name": "python3"
  },
  "language_info": {
   "codemirror_mode": {
    "name": "ipython",
    "version": 3
   },
   "file_extension": ".py",
   "mimetype": "text/x-python",
   "name": "python",
   "nbconvert_exporter": "python",
   "pygments_lexer": "ipython3",
   "version": "3.8.3"
  }
 },
 "nbformat": 4,
 "nbformat_minor": 4
}
