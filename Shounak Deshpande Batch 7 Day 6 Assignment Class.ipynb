{
 "cells": [
  {
   "cell_type": "markdown",
   "metadata": {},
   "source": [
    "# Question 1: Bank Account for withdrawal and deposit methods"
   ]
  },
  {
   "cell_type": "code",
   "execution_count": 84,
   "metadata": {},
   "outputs": [],
   "source": [
    "class bank():\n",
    "    ownername = ''\n",
    "    balance = 0.0\n",
    "    \n",
    "    \n",
    "    def __init__(self,ownername,balance):\n",
    "        self.ownername = ownername\n",
    "        self.balance = balance\n",
    "        print('Hello',self.ownername,'. Your current balance is INR',self.balance)\n",
    "        \n",
    "    def withdraw(self):\n",
    "        amt = float(input('enter the amount you wish to withdraw- '))\n",
    "        if amt > self.balance:\n",
    "            print('Withdrawal Amount Exceeds Balance')\n",
    "        else:\n",
    "            a = self.balance - amt\n",
    "            return 'Updated balance is: ',a\n",
    "        \n",
    "    def deposit(self):\n",
    "        amtd = float(input('enter the amount you wish to deposit- '))\n",
    "        b = self.balance + amtd\n",
    "        return 'Updated balance is: ',b"
   ]
  },
  {
   "cell_type": "code",
   "execution_count": 86,
   "metadata": {},
   "outputs": [
    {
     "name": "stdout",
     "output_type": "stream",
     "text": [
      "Hello Shounak . Your current balance is INR 1000\n"
     ]
    }
   ],
   "source": [
    "T1 = bank('Shounak', 1000)"
   ]
  },
  {
   "cell_type": "code",
   "execution_count": 87,
   "metadata": {},
   "outputs": [
    {
     "name": "stdout",
     "output_type": "stream",
     "text": [
      "enter the amount you wish to withdraw- 100\n"
     ]
    },
    {
     "data": {
      "text/plain": [
       "('Updated balance is: ', 900.0)"
      ]
     },
     "execution_count": 87,
     "metadata": {},
     "output_type": "execute_result"
    }
   ],
   "source": [
    "T1.withdraw()"
   ]
  },
  {
   "cell_type": "code",
   "execution_count": 89,
   "metadata": {},
   "outputs": [
    {
     "name": "stdout",
     "output_type": "stream",
     "text": [
      "enter the amount you wish to withdraw- 1500\n",
      "Withdrawal Amount Exceeds Balance\n"
     ]
    }
   ],
   "source": [
    "T1.withdraw()"
   ]
  },
  {
   "cell_type": "code",
   "execution_count": 88,
   "metadata": {},
   "outputs": [
    {
     "name": "stdout",
     "output_type": "stream",
     "text": [
      "enter the amount you wish to deposit- 200\n"
     ]
    },
    {
     "data": {
      "text/plain": [
       "('Updated balance is: ', 1200.0)"
      ]
     },
     "execution_count": 88,
     "metadata": {},
     "output_type": "execute_result"
    }
   ],
   "source": [
    "T1.deposit()"
   ]
  },
  {
   "cell_type": "markdown",
   "metadata": {},
   "source": [
    "# Question 2: Cone class for calculating volume and surface area"
   ]
  },
  {
   "cell_type": "code",
   "execution_count": 80,
   "metadata": {},
   "outputs": [],
   "source": [
    "import math as m\n",
    "\n",
    "class cone:\n",
    "    R = 0\n",
    "    h = 0\n",
    "    def __init__ (self, R, h):\n",
    "        self.R = R\n",
    "        self.h = h\n",
    "        print('You have entered Radius as ',R, 'and Height as ',h)\n",
    "\n",
    "    def volume(self):\n",
    "        v = m.pi * self.R**2 * (self.h/3)\n",
    "        return 'volume',v\n",
    "\n",
    "    def sarea(self):\n",
    "        a = m.pi * self.R**2 + 3.14*self.R *(m.sqrt(self.R**2 + self.h**2))\n",
    "        return 'Surface area',a"
   ]
  },
  {
   "cell_type": "code",
   "execution_count": 81,
   "metadata": {},
   "outputs": [
    {
     "name": "stdout",
     "output_type": "stream",
     "text": [
      "You have entered Radius as  1 and Height as  2\n"
     ]
    }
   ],
   "source": [
    "C1 = cone(1,2)"
   ]
  },
  {
   "cell_type": "code",
   "execution_count": 82,
   "metadata": {},
   "outputs": [
    {
     "data": {
      "text/plain": [
       "('volume', 2.0943951023931953)"
      ]
     },
     "execution_count": 82,
     "metadata": {},
     "output_type": "execute_result"
    }
   ],
   "source": [
    "C1.volume()"
   ]
  },
  {
   "cell_type": "code",
   "execution_count": 83,
   "metadata": {},
   "outputs": [
    {
     "data": {
      "text/plain": [
       "('Surface area', 10.162846102939135)"
      ]
     },
     "execution_count": 83,
     "metadata": {},
     "output_type": "execute_result"
    }
   ],
   "source": [
    "C1.sarea()"
   ]
  }
 ],
 "metadata": {
  "kernelspec": {
   "display_name": "Python 3",
   "language": "python",
   "name": "python3"
  },
  "language_info": {
   "codemirror_mode": {
    "name": "ipython",
    "version": 3
   },
   "file_extension": ".py",
   "mimetype": "text/x-python",
   "name": "python",
   "nbconvert_exporter": "python",
   "pygments_lexer": "ipython3",
   "version": "3.8.3"
  }
 },
 "nbformat": 4,
 "nbformat_minor": 4
}
